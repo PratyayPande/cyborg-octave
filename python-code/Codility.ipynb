{
 "cells": [
  {
   "cell_type": "code",
   "execution_count": 46,
   "metadata": {},
   "outputs": [
    {
     "name": "stdout",
     "output_type": "stream",
     "text": [
      "8\n",
      "value of K: 3\n",
      "Value of L: 2\n"
     ]
    },
    {
     "ename": "UnboundLocalError",
     "evalue": "local variable 'sL' referenced before assignment",
     "output_type": "error",
     "traceback": [
      "\u001b[0;31m---------------------------------------------------------------------------\u001b[0m",
      "\u001b[0;31mUnboundLocalError\u001b[0m                         Traceback (most recent call last)",
      "\u001b[0;32m<ipython-input-46-7156b493c99a>\u001b[0m in \u001b[0;36m<module>\u001b[0;34m\u001b[0m\n\u001b[1;32m      7\u001b[0m \u001b[0mpK\u001b[0m \u001b[0;34m=\u001b[0m \u001b[0mint\u001b[0m\u001b[0;34m(\u001b[0m\u001b[0minput\u001b[0m\u001b[0;34m(\u001b[0m\u001b[0;34m'value of K: '\u001b[0m\u001b[0;34m)\u001b[0m\u001b[0;34m)\u001b[0m\u001b[0;34m\u001b[0m\u001b[0;34m\u001b[0m\u001b[0m\n\u001b[1;32m      8\u001b[0m \u001b[0mpL\u001b[0m \u001b[0;34m=\u001b[0m \u001b[0mint\u001b[0m\u001b[0;34m(\u001b[0m\u001b[0minput\u001b[0m\u001b[0;34m(\u001b[0m\u001b[0;34m'Value of L: '\u001b[0m\u001b[0;34m)\u001b[0m\u001b[0;34m)\u001b[0m\u001b[0;34m\u001b[0m\u001b[0;34m\u001b[0m\u001b[0m\n\u001b[0;32m----> 9\u001b[0;31m \u001b[0msolution\u001b[0m\u001b[0;34m(\u001b[0m\u001b[0mnA\u001b[0m\u001b[0;34m,\u001b[0m\u001b[0mpK\u001b[0m\u001b[0;34m,\u001b[0m\u001b[0mpL\u001b[0m\u001b[0;34m)\u001b[0m\u001b[0;34m\u001b[0m\u001b[0;34m\u001b[0m\u001b[0m\n\u001b[0m\u001b[1;32m     10\u001b[0m \u001b[0;34m\u001b[0m\u001b[0m\n\u001b[1;32m     11\u001b[0m \u001b[0;34m\u001b[0m\u001b[0m\n",
      "\u001b[0;32m<ipython-input-37-d5627c7e50f9>\u001b[0m in \u001b[0;36msolution\u001b[0;34m(A, K, L)\u001b[0m\n\u001b[1;32m     20\u001b[0m                 \u001b[0msK\u001b[0m \u001b[0;34m=\u001b[0m \u001b[0msK\u001b[0m \u001b[0;34m+\u001b[0m \u001b[0mA\u001b[0m\u001b[0;34m[\u001b[0m\u001b[0mk\u001b[0m\u001b[0;34m]\u001b[0m\u001b[0;34m\u001b[0m\u001b[0;34m\u001b[0m\u001b[0m\n\u001b[1;32m     21\u001b[0m                 \u001b[0;32mfor\u001b[0m \u001b[0mj\u001b[0m \u001b[0;32min\u001b[0m \u001b[0mrange\u001b[0m\u001b[0;34m(\u001b[0m\u001b[0mK\u001b[0m\u001b[0;34m+\u001b[0m\u001b[0mi\u001b[0m\u001b[0;34m,\u001b[0m\u001b[0mlen\u001b[0m\u001b[0;34m(\u001b[0m\u001b[0mA\u001b[0m\u001b[0;34m)\u001b[0m\u001b[0;34m-\u001b[0m\u001b[0;36m1\u001b[0m\u001b[0;34m)\u001b[0m\u001b[0;34m:\u001b[0m\u001b[0;34m\u001b[0m\u001b[0;34m\u001b[0m\u001b[0m\n\u001b[0;32m---> 22\u001b[0;31m                     \u001b[0msL\u001b[0m \u001b[0;34m=\u001b[0m \u001b[0msL\u001b[0m \u001b[0;34m+\u001b[0m \u001b[0mA\u001b[0m\u001b[0;34m[\u001b[0m\u001b[0mj\u001b[0m\u001b[0;34m]\u001b[0m\u001b[0;34m\u001b[0m\u001b[0;34m\u001b[0m\u001b[0m\n\u001b[0m\u001b[1;32m     23\u001b[0m                 \u001b[0;32mif\u001b[0m \u001b[0msK\u001b[0m\u001b[0;34m+\u001b[0m\u001b[0msL\u001b[0m \u001b[0;34m>\u001b[0m \u001b[0mMAX\u001b[0m\u001b[0;34m:\u001b[0m\u001b[0;34m\u001b[0m\u001b[0;34m\u001b[0m\u001b[0m\n\u001b[1;32m     24\u001b[0m                     \u001b[0mMAX\u001b[0m \u001b[0;34m=\u001b[0m \u001b[0msK\u001b[0m\u001b[0;34m+\u001b[0m\u001b[0msL\u001b[0m\u001b[0;34m\u001b[0m\u001b[0;34m\u001b[0m\u001b[0m\n",
      "\u001b[0;31mUnboundLocalError\u001b[0m: local variable 'sL' referenced before assignment"
     ]
    }
   ],
   "source": [
    "import numpy as np                      \n",
    "N = int(input(''))\n",
    "nA = [6,1,4,6,3,2,7,4]\n",
    "#for i in range(0,N):\n",
    "#    A[i] = int(input(''))\n",
    "#print(A)\n",
    "pK = int(input('value of K: '))\n",
    "pL = int(input('Value of L: '))\n",
    "solution(nA,pK,pL)\n",
    "\n",
    "\n",
    "def solution(A, K, L):\n",
    "    # write your code in Python 3.6\n",
    "    MAX = -1\n",
    "    if(K >= 1)&(L >= 1)&(K <= len(A)-1)&(L <= len(A)-1)&(K+L <= len(A)):\n",
    "        MAX = 0\n",
    "        for i in range(0,len(A)-K-L): # for the K trees\n",
    "            sK = 0\n",
    "            for k in range(i,K+i-1):\n",
    "                sK = sK + A[k]\n",
    "                for j in range(K+i,L+i-1):\n",
    "                    print(\"hello\")\n",
    "                    sL = sL + A[j]\n",
    "                if sK+sL > MAX:\n",
    "                    MAX = sK+sL\n",
    "                sK = 0\n",
    "                sL = 0\n",
    "    print(MAX)\n",
    "                \n",
    "pass"
   ]
  },
  {
   "cell_type": "code",
   "execution_count": 49,
   "metadata": {},
   "outputs": [
    {
     "name": "stdout",
     "output_type": "stream",
     "text": [
      "[5, 2, 6, 7, 6, 7]\n",
      "33\n",
      "[2, 6]\n"
     ]
    }
   ],
   "source": [
    "A = [5,2,6,7,6,7]\n",
    "print(A)\n",
    "print(sum(A))\n",
    "print(A[1:3])"
   ]
  },
  {
   "cell_type": "code",
   "execution_count": 35,
   "metadata": {},
   "outputs": [],
   "source": [
    "def solution(A, K, L):\n",
    "    # write your code in Python 3.6\n",
    "    MAX = 0\n",
    "    if(K >= 1)&(L >= 1)&(K <= len(A)-1)&(L <= len(A)-1)&(K+L <= len(A)):\n",
    "        for i in range(0,len(A)-L): # for the K trees\n",
    "            sK = 0\n",
    "            for k in range(i,K-1):\n",
    "                sK = sK + A[k]\n",
    "            for j in range(K,len(A)-1):\n",
    "                sL = 0\n",
    "                for k in range(i,K-1):\n",
    "                    sK = sK + A[k]\n",
    "                if sK+sL > MAX:\n",
    "                    MAX = sK+sL\n",
    "    print(MAX)\n",
    "                \n",
    "pass"
   ]
  },
  {
   "cell_type": "code",
   "execution_count": 11,
   "metadata": {},
   "outputs": [
    {
     "data": {
      "text/plain": [
       "6"
      ]
     },
     "execution_count": 11,
     "metadata": {},
     "output_type": "execute_result"
    }
   ],
   "source": [
    "a[2]"
   ]
  },
  {
   "cell_type": "code",
   "execution_count": 42,
   "metadata": {},
   "outputs": [
    {
     "name": "stdout",
     "output_type": "stream",
     "text": [
      "8\n",
      "value of K: 3\n",
      "Value of L: 2\n"
     ]
    },
    {
     "ename": "UnboundLocalError",
     "evalue": "local variable 'sL' referenced before assignment",
     "output_type": "error",
     "traceback": [
      "\u001b[0;31m---------------------------------------------------------------------------\u001b[0m",
      "\u001b[0;31mUnboundLocalError\u001b[0m                         Traceback (most recent call last)",
      "\u001b[0;32m<ipython-input-42-88a81d9c2fc2>\u001b[0m in \u001b[0;36m<module>\u001b[0;34m\u001b[0m\n\u001b[1;32m      7\u001b[0m \u001b[0mK\u001b[0m \u001b[0;34m=\u001b[0m \u001b[0mint\u001b[0m\u001b[0;34m(\u001b[0m\u001b[0minput\u001b[0m\u001b[0;34m(\u001b[0m\u001b[0;34m'value of K: '\u001b[0m\u001b[0;34m)\u001b[0m\u001b[0;34m)\u001b[0m\u001b[0;34m\u001b[0m\u001b[0;34m\u001b[0m\u001b[0m\n\u001b[1;32m      8\u001b[0m \u001b[0mL\u001b[0m \u001b[0;34m=\u001b[0m \u001b[0mint\u001b[0m\u001b[0;34m(\u001b[0m\u001b[0minput\u001b[0m\u001b[0;34m(\u001b[0m\u001b[0;34m'Value of L: '\u001b[0m\u001b[0;34m)\u001b[0m\u001b[0;34m)\u001b[0m\u001b[0;34m\u001b[0m\u001b[0;34m\u001b[0m\u001b[0m\n\u001b[0;32m----> 9\u001b[0;31m \u001b[0msolution\u001b[0m\u001b[0;34m(\u001b[0m\u001b[0mA\u001b[0m\u001b[0;34m,\u001b[0m\u001b[0mK\u001b[0m\u001b[0;34m,\u001b[0m\u001b[0mL\u001b[0m\u001b[0;34m)\u001b[0m\u001b[0;34m\u001b[0m\u001b[0;34m\u001b[0m\u001b[0m\n\u001b[0m\u001b[1;32m     10\u001b[0m \u001b[0;34m\u001b[0m\u001b[0m\n\u001b[1;32m     11\u001b[0m \u001b[0;34m\u001b[0m\u001b[0m\n",
      "\u001b[0;32m<ipython-input-37-d5627c7e50f9>\u001b[0m in \u001b[0;36msolution\u001b[0;34m(A, K, L)\u001b[0m\n\u001b[1;32m     20\u001b[0m                 \u001b[0msK\u001b[0m \u001b[0;34m=\u001b[0m \u001b[0msK\u001b[0m \u001b[0;34m+\u001b[0m \u001b[0mA\u001b[0m\u001b[0;34m[\u001b[0m\u001b[0mk\u001b[0m\u001b[0;34m]\u001b[0m\u001b[0;34m\u001b[0m\u001b[0;34m\u001b[0m\u001b[0m\n\u001b[1;32m     21\u001b[0m                 \u001b[0;32mfor\u001b[0m \u001b[0mj\u001b[0m \u001b[0;32min\u001b[0m \u001b[0mrange\u001b[0m\u001b[0;34m(\u001b[0m\u001b[0mK\u001b[0m\u001b[0;34m+\u001b[0m\u001b[0mi\u001b[0m\u001b[0;34m,\u001b[0m\u001b[0mlen\u001b[0m\u001b[0;34m(\u001b[0m\u001b[0mA\u001b[0m\u001b[0;34m)\u001b[0m\u001b[0;34m-\u001b[0m\u001b[0;36m1\u001b[0m\u001b[0;34m)\u001b[0m\u001b[0;34m:\u001b[0m\u001b[0;34m\u001b[0m\u001b[0;34m\u001b[0m\u001b[0m\n\u001b[0;32m---> 22\u001b[0;31m                     \u001b[0msL\u001b[0m \u001b[0;34m=\u001b[0m \u001b[0msL\u001b[0m \u001b[0;34m+\u001b[0m \u001b[0mA\u001b[0m\u001b[0;34m[\u001b[0m\u001b[0mj\u001b[0m\u001b[0;34m]\u001b[0m\u001b[0;34m\u001b[0m\u001b[0;34m\u001b[0m\u001b[0m\n\u001b[0m\u001b[1;32m     23\u001b[0m                 \u001b[0;32mif\u001b[0m \u001b[0msK\u001b[0m\u001b[0;34m+\u001b[0m\u001b[0msL\u001b[0m \u001b[0;34m>\u001b[0m \u001b[0mMAX\u001b[0m\u001b[0;34m:\u001b[0m\u001b[0;34m\u001b[0m\u001b[0;34m\u001b[0m\u001b[0m\n\u001b[1;32m     24\u001b[0m                     \u001b[0mMAX\u001b[0m \u001b[0;34m=\u001b[0m \u001b[0msK\u001b[0m\u001b[0;34m+\u001b[0m\u001b[0msL\u001b[0m\u001b[0;34m\u001b[0m\u001b[0;34m\u001b[0m\u001b[0m\n",
      "\u001b[0;31mUnboundLocalError\u001b[0m: local variable 'sL' referenced before assignment"
     ]
    }
   ],
   "source": [
    "import numpy as np                      \n",
    "N = int(input(''))\n",
    "A = [6,1,4,6,3,2,7,4]\n",
    "#for i in range(0,N):\n",
    "#    A[i] = int(input(''))\n",
    "#print(A)\n",
    "K = int(input('value of K: '))\n",
    "L = int(input('Value of L: '))\n",
    "solution(A,K,L)\n",
    "\n",
    "\n",
    "def solution(A, K, L):\n",
    "    # write your code in Python 3.6\n",
    "    MAX = -1\n",
    "    if(K >= 1)&(L >= 1)&(K <= len(A)-1)&(L <= len(A)-1)&(K+L <= len(A)):\n",
    "        MAX = 0\n",
    "        for i in range(0,len(A)-K-L): # for the K trees\n",
    "            sK = 0\n",
    "            sL = 0\n",
    "            for k in range(i,K+i-1):\n",
    "                sK = sK + A[k]\n",
    "                for j in range(K+i,L+i-1):\n",
    "                    sL = sL + A[j]\n",
    "                if sK+sL > MAX:\n",
    "                    MAX = sK+sL\n",
    "                sK = 0\n",
    "                sL = 0\n",
    "    print(MAX)\n",
    "                \n",
    "pass"
   ]
  },
  {
   "cell_type": "code",
   "execution_count": null,
   "metadata": {},
   "outputs": [],
   "source": []
  }
 ],
 "metadata": {
  "kernelspec": {
   "display_name": "Python 3",
   "language": "python",
   "name": "python3"
  },
  "language_info": {
   "codemirror_mode": {
    "name": "ipython",
    "version": 3
   },
   "file_extension": ".py",
   "mimetype": "text/x-python",
   "name": "python",
   "nbconvert_exporter": "python",
   "pygments_lexer": "ipython3",
   "version": "3.7.4"
  }
 },
 "nbformat": 4,
 "nbformat_minor": 2
}
