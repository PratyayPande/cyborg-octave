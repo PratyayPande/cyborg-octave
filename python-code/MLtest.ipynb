{
 "cells": [
  {
   "cell_type": "code",
   "execution_count": 4,
   "metadata": {},
   "outputs": [],
   "source": [
    "Data =[1, 3, 4, 5, 6, 2, 9]  # Numeric data \n",
    "  \n",
    "# Creating series with default index values \n",
    "s = pd.Series(Data)     \n",
    "  \n",
    "# predefined index values \n",
    "Index =['a', 'b', 'c', 'd', 'e', 'f', 'g']  \n",
    "  \n",
    "# Creating series with predefined index values \n",
    "si = pd.Series(Data, Index)  "
   ]
  },
  {
   "cell_type": "code",
   "execution_count": null,
   "metadata": {},
   "outputs": [],
   "source": []
  }
 ],
 "metadata": {
  "kernelspec": {
   "display_name": "Python 3",
   "language": "python",
   "name": "python3"
  },
  "language_info": {
   "codemirror_mode": {
    "name": "ipython",
    "version": 3
   },
   "file_extension": ".py",
   "mimetype": "text/x-python",
   "name": "python",
   "nbconvert_exporter": "python",
   "pygments_lexer": "ipython3",
   "version": "3.7.4"
  }
 },
 "nbformat": 4,
 "nbformat_minor": 2
}
