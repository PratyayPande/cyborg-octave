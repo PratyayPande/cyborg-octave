{
 "cells": [
  {
   "cell_type": "code",
   "execution_count": 6,
   "metadata": {},
   "outputs": [
    {
     "name": "stdout",
     "output_type": "stream",
     "text": [
      "ABC\n",
      "ABD\n",
      "ACB\n",
      "ACD\n",
      "ADB\n",
      "ADC\n",
      "BAC\n",
      "BAD\n",
      "BCA\n",
      "BCD\n",
      "BDA\n",
      "BDC\n",
      "CAB\n",
      "CAD\n",
      "CBA\n",
      "CBD\n",
      "CDA\n",
      "CDB\n",
      "DAB\n",
      "DAC\n",
      "DBA\n",
      "DBC\n",
      "DCA\n",
      "DCB\n",
      "\n",
      "\n",
      "complete!!\n"
     ]
    }
   ],
   "source": [
    "#arr = String(input(\"Enter the array: \"))\n",
    "\n",
    "for first in 'ABCD':\n",
    "    for second in 'ABCD':\n",
    "        if first != second:\n",
    "            for third in 'ABCD':\n",
    "                if third != second and third != first:\n",
    "                    print(first+second+third)\n",
    "                \n",
    "print('\\n')\n",
    "print('complete!!')"
   ]
  },
  {
   "cell_type": "code",
   "execution_count": 17,
   "metadata": {},
   "outputs": [
    {
     "name": "stdout",
     "output_type": "stream",
     "text": [
      "enter array: 9 8 7 6 5\n",
      "9 8 7 6 5\n"
     ]
    },
    {
     "ename": "ValueError",
     "evalue": "invalid literal for int() with base 10: '9 8 7 6 5'",
     "output_type": "error",
     "traceback": [
      "\u001b[0;31m---------------------------------------------------------------------------\u001b[0m",
      "\u001b[0;31mValueError\u001b[0m                                Traceback (most recent call last)",
      "\u001b[0;32m<ipython-input-17-0dd500b73ef6>\u001b[0m in \u001b[0;36m<module>\u001b[0;34m\u001b[0m\n\u001b[1;32m      2\u001b[0m \u001b[0ma\u001b[0m \u001b[0;34m=\u001b[0m \u001b[0minput\u001b[0m\u001b[0;34m(\u001b[0m\u001b[0;34m'enter array: '\u001b[0m\u001b[0;34m)\u001b[0m\u001b[0;34m\u001b[0m\u001b[0;34m\u001b[0m\u001b[0m\n\u001b[1;32m      3\u001b[0m \u001b[0mprint\u001b[0m\u001b[0;34m(\u001b[0m\u001b[0ma\u001b[0m\u001b[0;34m)\u001b[0m\u001b[0;34m\u001b[0m\u001b[0;34m\u001b[0m\u001b[0m\n\u001b[0;32m----> 4\u001b[0;31m \u001b[0mprint\u001b[0m\u001b[0;34m(\u001b[0m\u001b[0mtype\u001b[0m\u001b[0;34m(\u001b[0m\u001b[0mint\u001b[0m\u001b[0;34m(\u001b[0m\u001b[0ma\u001b[0m\u001b[0;34m)\u001b[0m\u001b[0;34m)\u001b[0m\u001b[0;34m)\u001b[0m\u001b[0;34m\u001b[0m\u001b[0;34m\u001b[0m\u001b[0m\n\u001b[0m",
      "\u001b[0;31mValueError\u001b[0m: invalid literal for int() with base 10: '9 8 7 6 5'"
     ]
    }
   ],
   "source": [
    "a = []\n",
    "a = input('enter array: ')\n",
    "print(a)\n",
    "print(type(int(a)))"
   ]
  },
  {
   "cell_type": "code",
   "execution_count": 15,
   "metadata": {},
   "outputs": [
    {
     "name": "stdout",
     "output_type": "stream",
     "text": [
      "1\n"
     ]
    }
   ],
   "source": [
    "t = 5%2\n",
    "print(t)"
   ]
  },
  {
   "cell_type": "code",
   "execution_count": 5,
   "metadata": {},
   "outputs": [
    {
     "name": "stdout",
     "output_type": "stream",
     "text": [
      "['', '', '', '', '', '', '']\n",
      "rer\n",
      "7\n"
     ]
    }
   ],
   "source": [
    "strs = ['' for i in range(7)]\n",
    "print(strs)\n",
    "strs[4] = 'rer'\n",
    "print(strs[4])\n",
    "print(len(strs))"
   ]
  },
  {
   "cell_type": "code",
   "execution_count": 8,
   "metadata": {},
   "outputs": [
    {
     "name": "stdout",
     "output_type": "stream",
     "text": [
      "PRATYAY PANDE\n"
     ]
    }
   ],
   "source": [
    "strs[1] = 'PRATYAY PANDE'\n",
    "print(strs[1])"
   ]
  },
  {
   "cell_type": "code",
   "execution_count": 37,
   "metadata": {},
   "outputs": [
    {
     "name": "stdout",
     "output_type": "stream",
     "text": [
      "Enter your nameoihoihoih\n",
      "o\n",
      "i\n",
      "h\n",
      "o\n",
      "i\n",
      "h\n",
      "o\n",
      "i\n",
      "h\n",
      "Start time =  5.287593564\n",
      "Time now =  5.294754135\n",
      "Elapsed time =  0.0072780259999998265\n"
     ]
    }
   ],
   "source": [
    "from time import process_time\n",
    "print('Enter your name',end='')\n",
    "start_time = process_time()\n",
    "name = input('')\n",
    "for i in range(len(name)):\n",
    "    print(name[i])\n",
    "now_time = process_time()\n",
    "elapsed = process_time()-start_time\n",
    "print('Start time = ',start_time)\n",
    "print('Time now = ',now_time)\n",
    "print('Elapsed time = ',elapsed)"
   ]
  },
  {
   "cell_type": "code",
   "execution_count": 38,
   "metadata": {},
   "outputs": [
    {
     "name": "stdout",
     "output_type": "stream",
     "text": [
      "0 1 2 3 4 5 6 7 8 9 10 11 12 13 14 15 16 17 18 19 20 21 22 23 24 25 26 27 28 29 30 31 32 33 34 35 36 37 38 39 40 41 42 43 44 45 46 47 48 49 \n",
      "Elapsed time: 5.313931413 5.311220657\n",
      "Elapsed time during the whole program in seconds: 0.0027107559999999253\n"
     ]
    }
   ],
   "source": [
    "\n",
    "# Python program to show time by process_time()  \n",
    "from time import process_time \n",
    "  \n",
    "# assigning n = 50  \n",
    "n = 50 \n",
    "  \n",
    "# Start the stopwatch / counter  \n",
    "t1_start = process_time()  \n",
    "   \n",
    "for i in range(n): \n",
    "    print(i, end =' ') \n",
    "  \n",
    "print()  \n",
    "  \n",
    "# Stop the stopwatch / counter \n",
    "t1_stop = process_time() \n",
    "   \n",
    "print(\"Elapsed time:\", t1_stop, t1_start)  \n",
    "   \n",
    "print(\"Elapsed time during the whole program in seconds:\", \n",
    "                                         t1_stop-t1_start)  \n"
   ]
  },
  {
   "cell_type": "code",
   "execution_count": 1,
   "metadata": {},
   "outputs": [
    {
     "name": "stdout",
     "output_type": "stream",
     "text": [
      "[0, 0, 0, 0]\n"
     ]
    }
   ],
   "source": [
    "g = [0,0,0,0]\n",
    "print(g)"
   ]
  },
  {
   "cell_type": "code",
   "execution_count": 2,
   "metadata": {},
   "outputs": [
    {
     "name": "stdout",
     "output_type": "stream",
     "text": [
      "[0, 0, 0, 0, 2]\n"
     ]
    }
   ],
   "source": [
    "g.append(2)\n",
    "print(g)"
   ]
  },
  {
   "cell_type": "code",
   "execution_count": 3,
   "metadata": {},
   "outputs": [
    {
     "name": "stdout",
     "output_type": "stream",
     "text": [
      "1\n",
      "1\n",
      "1\n",
      "2\n",
      "[0, 0, 0] , \n",
      "[0, 0, 1] , \n",
      "[0, 1, 0] , \n",
      "[1, 0, 0] , \n",
      "[1, 1, 1] , \n"
     ]
    }
   ],
   "source": [
    "x = int(input())\n",
    "y = int(input())\n",
    "z = int(input())\n",
    "n = int(input())\n",
    "for i in range(0,x+1):\n",
    "    for j in range(0,y+1):\n",
    "        for k in range(0,z+1):\n",
    "            mylist = [0,0,0]\n",
    "            if i+j+k != n:\n",
    "                mylist[0] = i\n",
    "                mylist[1] = j\n",
    "                mylist[2] = k\n",
    "                print(mylist,', ')\n"
   ]
  },
  {
   "cell_type": "code",
   "execution_count": 4,
   "metadata": {},
   "outputs": [
    {
     "name": "stdout",
     "output_type": "stream",
     "text": [
      "1\n",
      "1\n",
      "1\n",
      "2\n"
     ]
    },
    {
     "ename": "AttributeError",
     "evalue": "'NoneType' object has no attribute 'append'",
     "output_type": "error",
     "traceback": [
      "\u001b[0;31m---------------------------------------------------------------------------\u001b[0m",
      "\u001b[0;31mAttributeError\u001b[0m                            Traceback (most recent call last)",
      "\u001b[0;32m<ipython-input-4-6a33d2f3f5fa>\u001b[0m in \u001b[0;36m<module>\u001b[0;34m\u001b[0m\n\u001b[1;32m     13\u001b[0m                 \u001b[0mmylist\u001b[0m\u001b[0;34m[\u001b[0m\u001b[0;36m1\u001b[0m\u001b[0;34m]\u001b[0m \u001b[0;34m=\u001b[0m \u001b[0mj\u001b[0m\u001b[0;34m\u001b[0m\u001b[0;34m\u001b[0m\u001b[0m\n\u001b[1;32m     14\u001b[0m                 \u001b[0mmylist\u001b[0m\u001b[0;34m[\u001b[0m\u001b[0;36m2\u001b[0m\u001b[0;34m]\u001b[0m \u001b[0;34m=\u001b[0m \u001b[0mk\u001b[0m\u001b[0;34m\u001b[0m\u001b[0;34m\u001b[0m\u001b[0m\n\u001b[0;32m---> 15\u001b[0;31m                 \u001b[0mcumul\u001b[0m \u001b[0;34m=\u001b[0m \u001b[0mcumul\u001b[0m\u001b[0;34m.\u001b[0m\u001b[0mappend\u001b[0m\u001b[0;34m(\u001b[0m\u001b[0mmylist\u001b[0m\u001b[0;34m)\u001b[0m\u001b[0;34m\u001b[0m\u001b[0;34m\u001b[0m\u001b[0m\n\u001b[0m\u001b[1;32m     16\u001b[0m                 \u001b[0;31m#print(mylist,' , ',end='')\u001b[0m\u001b[0;34m\u001b[0m\u001b[0;34m\u001b[0m\u001b[0;34m\u001b[0m\u001b[0m\n\u001b[1;32m     17\u001b[0m \u001b[0mprint\u001b[0m\u001b[0;34m(\u001b[0m\u001b[0mcumul\u001b[0m\u001b[0;34m)\u001b[0m\u001b[0;34m\u001b[0m\u001b[0;34m\u001b[0m\u001b[0m\n",
      "\u001b[0;31mAttributeError\u001b[0m: 'NoneType' object has no attribute 'append'"
     ]
    }
   ],
   "source": [
    "x = int(input())\n",
    "y = int(input())\n",
    "z = int(input())\n",
    "n = int(input())\n",
    "#print('[',end='')\n",
    "cumul = []\n",
    "for i in range(0,x+1):\n",
    "    for j in range(0,y+1):\n",
    "        for k in range(0,z+1):\n",
    "            mylist = [0,0,0]\n",
    "            if i+j+k != n:\n",
    "                mylist[0] = i\n",
    "                mylist[1] = j\n",
    "                mylist[2] = k\n",
    "                cumul = cumul.append(mylist)\n",
    "                #print(mylist,' , ',end='')\n",
    "print(cumul)"
   ]
  },
  {
   "cell_type": "code",
   "execution_count": 6,
   "metadata": {},
   "outputs": [
    {
     "name": "stdout",
     "output_type": "stream",
     "text": [
      "call myfnc()\n",
      "m1 module name=__helluu__\n"
     ]
    }
   ],
   "source": [
    "# m1.py\n",
    "def myfnc():\n",
    "    print('m1 module name=%s' %(__name__))\n",
    "if __name__ == '__main__':\n",
    "    print('call myfnc()')\n",
    "    __name__ = '__helluu__'\n",
    "    myfnc()"
   ]
  },
  {
   "cell_type": "code",
   "execution_count": 10,
   "metadata": {},
   "outputs": [
    {
     "name": "stdout",
     "output_type": "stream",
     "text": [
      "{3,4,5,6,4}\n"
     ]
    },
    {
     "ename": "ValueError",
     "evalue": "invalid literal for int() with base 10: '{3,4,5,6,4}'",
     "output_type": "error",
     "traceback": [
      "\u001b[0;31m---------------------------------------------------------------------------\u001b[0m",
      "\u001b[0;31mValueError\u001b[0m                                Traceback (most recent call last)",
      "\u001b[0;32m<ipython-input-10-22720d201f5b>\u001b[0m in \u001b[0;36m<module>\u001b[0;34m\u001b[0m\n\u001b[0;32m----> 1\u001b[0;31m \u001b[0mg\u001b[0m \u001b[0;34m=\u001b[0m \u001b[0mint\u001b[0m\u001b[0;34m(\u001b[0m\u001b[0minput\u001b[0m\u001b[0;34m(\u001b[0m\u001b[0;34m)\u001b[0m\u001b[0;34m)\u001b[0m\u001b[0;34m\u001b[0m\u001b[0;34m\u001b[0m\u001b[0m\n\u001b[0m\u001b[1;32m      2\u001b[0m \u001b[0mprint\u001b[0m\u001b[0;34m(\u001b[0m\u001b[0mg\u001b[0m\u001b[0;34m)\u001b[0m\u001b[0;34m\u001b[0m\u001b[0;34m\u001b[0m\u001b[0m\n",
      "\u001b[0;31mValueError\u001b[0m: invalid literal for int() with base 10: '{3,4,5,6,4}'"
     ]
    }
   ],
   "source": [
    "g = input()\n",
    "print(g)"
   ]
  },
  {
   "cell_type": "code",
   "execution_count": 3,
   "metadata": {},
   "outputs": [
    {
     "name": "stdout",
     "output_type": "stream",
     "text": [
      "5\n",
      "3 4 5 6 7\n",
      "<map object at 0x7f78d0715f10>\n"
     ]
    }
   ],
   "source": [
    "n = int(input())\n",
    "arr = map(int, input().split())\n",
    "print(arr)"
   ]
  },
  {
   "cell_type": "markdown",
   "metadata": {},
   "source": [
    "5\n",
    "6\n",
    "7\n",
    "#### while true:\n",
    "    print(eval(input()))"
   ]
  },
  {
   "cell_type": "code",
   "execution_count": 25,
   "metadata": {},
   "outputs": [
    {
     "data": {
      "text/plain": [
       "['In',\n",
       " 'Out',\n",
       " '_',\n",
       " '__',\n",
       " '___',\n",
       " '__builtin__',\n",
       " '__builtins__',\n",
       " '__doc__',\n",
       " '__loader__',\n",
       " '__name__',\n",
       " '__package__',\n",
       " '__spec__',\n",
       " '_dh',\n",
       " '_i',\n",
       " '_i1',\n",
       " '_i10',\n",
       " '_i11',\n",
       " '_i12',\n",
       " '_i13',\n",
       " '_i14',\n",
       " '_i15',\n",
       " '_i16',\n",
       " '_i17',\n",
       " '_i18',\n",
       " '_i19',\n",
       " '_i2',\n",
       " '_i20',\n",
       " '_i21',\n",
       " '_i22',\n",
       " '_i23',\n",
       " '_i24',\n",
       " '_i25',\n",
       " '_i3',\n",
       " '_i4',\n",
       " '_i5',\n",
       " '_i6',\n",
       " '_i7',\n",
       " '_i8',\n",
       " '_i9',\n",
       " '_ih',\n",
       " '_ii',\n",
       " '_iii',\n",
       " '_oh',\n",
       " 'a',\n",
       " 'arr',\n",
       " 'cumul',\n",
       " 'exit',\n",
       " 'g',\n",
       " 'get_ipython',\n",
       " 'i',\n",
       " 'j',\n",
       " 'k',\n",
       " 'myfnc',\n",
       " 'mylist',\n",
       " 'n',\n",
       " 'quit',\n",
       " 't',\n",
       " 'x',\n",
       " 'y',\n",
       " 'z']"
      ]
     },
     "execution_count": 25,
     "metadata": {},
     "output_type": "execute_result"
    }
   ],
   "source": [
    "dir()"
   ]
  },
  {
   "cell_type": "code",
   "execution_count": 1,
   "metadata": {},
   "outputs": [
    {
     "name": "stdout",
     "output_type": "stream",
     "text": [
      "6\n"
     ]
    }
   ],
   "source": [
    "inp = {1,2,5,3,5,6,4}\n",
    "print(max(inp))"
   ]
  },
  {
   "cell_type": "code",
   "execution_count": 12,
   "metadata": {},
   "outputs": [
    {
     "name": "stdout",
     "output_type": "stream",
     "text": [
      "Enter the number of elements: 6\n",
      "Enter element at th index: 1\n",
      "Enter element at th index: 2\n",
      "Enter element at th index: 3\n",
      "Enter element at th index: 4\n",
      "Enter element at th index: 3\n",
      "Enter element at th index: 2\n",
      "array('i', [1, 2, 3, 4, 3, 2])\n"
     ]
    }
   ],
   "source": [
    "from array import *\n",
    "\n",
    "a = array('i',[])\n",
    "num = int(input('Enter the number of elements: '))\n",
    "for i in range(0,num):\n",
    "    a.insert(i,int(input('Enter element at th index: ')))\n",
    "print(a)"
   ]
  },
  {
   "cell_type": "markdown",
   "metadata": {},
   "source": [
    "a.remove(3)"
   ]
  },
  {
   "cell_type": "code",
   "execution_count": 14,
   "metadata": {},
   "outputs": [
    {
     "name": "stdout",
     "output_type": "stream",
     "text": [
      "array('i', [1, 2, 3, 4, 3, 2])\n"
     ]
    }
   ],
   "source": [
    "print(a)"
   ]
  },
  {
   "cell_type": "code",
   "execution_count": 2,
   "metadata": {},
   "outputs": [
    {
     "ename": "IndentationError",
     "evalue": "unindent does not match any outer indentation level (<tokenize>, line 16)",
     "output_type": "error",
     "traceback": [
      "\u001b[0;36m  File \u001b[0;32m\"<tokenize>\"\u001b[0;36m, line \u001b[0;32m16\u001b[0m\n\u001b[0;31m    c=(a+b)/2\u001b[0m\n\u001b[0m    ^\u001b[0m\n\u001b[0;31mIndentationError\u001b[0m\u001b[0;31m:\u001b[0m unindent does not match any outer indentation level\n"
     ]
    }
   ],
   "source": [
    "#declaration of function\n",
    "def myfunction(x):\n",
    "\treturn 3*x*x*x-12*x*x+5*x+4\n",
    "#taking a and b as input\n",
    "a=int(raw_input(\"enter the value of a:\\n\"))\n",
    "b=int(raw_input(\"enter the value of b:\\n\"))\n",
    "\n",
    "#Defining bisection function\n",
    "def bisect(a,b):\n",
    "\tif (myfunction(a)*myfunction(b)>=0):\n",
    "\t\tprint(\"selection of a and b is not correct\") \n",
    "\n",
    "\telif(myfunction(a)*myfunction(b)<0):\n",
    "\t\twhile((b-a)<=.0000001):\n",
    "\t\t\t#finding the middle point of a and b\n",
    "            c=(a+b)/2\n",
    "\t\t# Now checking if the middle point is root or not the root of the function\n",
    "            if(myfunction(c)>0.0000):\n",
    "\n",
    "\t\t\t\tif(myfunction(c)*myfunction(a)<0):\n",
    "\t\t\t\t\tbisect(a,c)\n",
    "\t\t\t\telse:\n",
    "\t\t\t\t\tbisect(c,b)\n",
    "\t\t\telse:\n",
    "\t\t\t\tbreak\t\n",
    "\t   #now repeating the conditions for finding the root\n",
    "\t    print(\"the root is:\", c)"
   ]
  },
  {
   "cell_type": "code",
   "execution_count": 24,
   "metadata": {},
   "outputs": [
    {
     "name": "stdout",
     "output_type": "stream",
     "text": [
      "enter the value of a:\n",
      "-1\n",
      "enter the value of b:\n",
      "4\n"
     ]
    },
    {
     "ename": "UnboundLocalError",
     "evalue": "local variable 'c' referenced before assignment",
     "output_type": "error",
     "traceback": [
      "\u001b[0;31m---------------------------------------------------------------------------\u001b[0m",
      "\u001b[0;31mUnboundLocalError\u001b[0m                         Traceback (most recent call last)",
      "\u001b[0;32m<ipython-input-24-6494deb52417>\u001b[0m in \u001b[0;36m<module>\u001b[0;34m\u001b[0m\n\u001b[1;32m      4\u001b[0m \u001b[0;32mglobal\u001b[0m \u001b[0mc\u001b[0m\u001b[0;34m\u001b[0m\u001b[0;34m\u001b[0m\u001b[0m\n\u001b[1;32m      5\u001b[0m \u001b[0mb\u001b[0m\u001b[0;34m=\u001b[0m\u001b[0mint\u001b[0m\u001b[0;34m(\u001b[0m\u001b[0minput\u001b[0m\u001b[0;34m(\u001b[0m\u001b[0;34m\"enter the value of b:\\n\"\u001b[0m\u001b[0;34m)\u001b[0m\u001b[0;34m)\u001b[0m\u001b[0;34m\u001b[0m\u001b[0;34m\u001b[0m\u001b[0m\n\u001b[0;32m----> 6\u001b[0;31m \u001b[0mbisect\u001b[0m\u001b[0;34m(\u001b[0m\u001b[0ma\u001b[0m\u001b[0;34m,\u001b[0m\u001b[0mb\u001b[0m\u001b[0;34m)\u001b[0m\u001b[0;34m\u001b[0m\u001b[0;34m\u001b[0m\u001b[0m\n\u001b[0m\u001b[1;32m      7\u001b[0m \u001b[0;34m\u001b[0m\u001b[0m\n\u001b[1;32m      8\u001b[0m \u001b[0;32mdef\u001b[0m \u001b[0mbisect\u001b[0m\u001b[0;34m(\u001b[0m\u001b[0ma\u001b[0m\u001b[0;34m,\u001b[0m\u001b[0mb\u001b[0m\u001b[0;34m)\u001b[0m\u001b[0;34m:\u001b[0m\u001b[0;34m\u001b[0m\u001b[0;34m\u001b[0m\u001b[0m\n",
      "\u001b[0;32m<ipython-input-18-ad212a7d4e57>\u001b[0m in \u001b[0;36mbisect\u001b[0;34m(a, b)\u001b[0m\n\u001b[1;32m     22\u001b[0m             \u001b[0;32melse\u001b[0m\u001b[0;34m:\u001b[0m\u001b[0;34m\u001b[0m\u001b[0;34m\u001b[0m\u001b[0m\n\u001b[1;32m     23\u001b[0m                 \u001b[0;32mbreak\u001b[0m\u001b[0;34m\u001b[0m\u001b[0;34m\u001b[0m\u001b[0m\n\u001b[0;32m---> 24\u001b[0;31m         \u001b[0mprint\u001b[0m\u001b[0;34m(\u001b[0m\u001b[0;34m\"the root is:\"\u001b[0m\u001b[0;34m,\u001b[0m \u001b[0mc\u001b[0m\u001b[0;34m)\u001b[0m\u001b[0;34m\u001b[0m\u001b[0;34m\u001b[0m\u001b[0m\n\u001b[0m\u001b[1;32m     25\u001b[0m \u001b[0mprint\u001b[0m\u001b[0;34m(\u001b[0m\u001b[0;34m\"txxcyvbiu\"\u001b[0m\u001b[0;34m)\u001b[0m\u001b[0;34m\u001b[0m\u001b[0;34m\u001b[0m\u001b[0m\n",
      "\u001b[0;31mUnboundLocalError\u001b[0m: local variable 'c' referenced before assignment"
     ]
    }
   ],
   "source": [
    "#taking a and b as input\n",
    "\n",
    "a=int(input(\"enter the value of a:\\n\"))\n",
    "b=int(input(\"enter the value of b:\\n\"))\n",
    "bisect(a,b)\n",
    "\n",
    "def bisect(a,b):\n",
    "    if (myfunction(a)*myfunction(b)>=0):\n",
    "        print(\"selection of a and b is not correct\") \n",
    "        print('inside bisect')\n",
    "    elif(myfunction(a)*myfunction(b)<0):\n",
    "        c = (a+b)/2\n",
    "        while((b-a)<=.0000001):\n",
    "            c = (a+b)/2\n",
    "            if(myfunction(c)>0.0000):\n",
    "                if(myfunction(c)*myfunction(a)<0):\n",
    "                    bisect(a,c)\n",
    "                else:\n",
    "                    bisect(c,b)\n",
    "            else:\n",
    "                break\n",
    "        print(\"the root is:\", c)\n",
    "print(\"txxcyvbiu\")\n",
    "def myfunction(x):\n",
    "    return 3*x*x*x-12*x*x+5*x+4\n",
    "#Defining bisection function\n"
   ]
  },
  {
   "cell_type": "code",
   "execution_count": 7,
   "metadata": {},
   "outputs": [
    {
     "name": "stdout",
     "output_type": "stream",
     "text": [
      "[ 3.39296945  1.         -0.39296945]\n"
     ]
    }
   ],
   "source": [
    "import numpy as np\n",
    "print(np.roots([3,-12,5,4]))"
   ]
  },
  {
   "cell_type": "code",
   "execution_count": null,
   "metadata": {},
   "outputs": [],
   "source": [
    "def myfunction(x):\n",
    "    return 3*x*x*x-12*x*x+5*x+4\n",
    "#Defining bisection function\n",
    "\n",
    "\n",
    "\n",
    "\n",
    "a=int(input(\"enter the value of a:\\n\"))\n",
    "b=int(input(\"enter the value of b:\\n\"))\n",
    "\n",
    "\n",
    "\n",
    "while (myfunction(a)*myfunction(b)<0):\n",
    "    c = (a+b)/2\n",
    "    while((b-a)<=.0000001):\n",
    "        c = (a+b)/2\n",
    "        if(myfunction(c)>0.0000):\n",
    "            if(myfunction(c)*myfunction(a)<0):\n",
    "                b = c\n",
    "            else:\n",
    "                bisect(c,b)\n",
    "        else:\n",
    "            break\n",
    "    if (myfunction(a)*myfunction(b) > 0):\n",
    "    print(\"the root is:\", c)\n"
   ]
  },
  {
   "cell_type": "code",
   "execution_count": 36,
   "metadata": {},
   "outputs": [
    {
     "name": "stdout",
     "output_type": "stream",
     "text": [
      "enter the value of a:\n",
      "-1\n",
      "enter the value of b:\n",
      "4\n",
      "the root is: 3.392969449982047\n",
      "Root after Newton method =  3.392969449982047\n",
      "Roots after using numpy library:  [ 3.39296945  1.         -0.39296945]\n"
     ]
    }
   ],
   "source": [
    "import numpy as np\n",
    "\n",
    "def myfunction(x):\n",
    "    return 3*x*x*x-12*x*x+5*x+4\n",
    "#Defining bisection function\n",
    "\n",
    "def derfunc(x):\n",
    "    return 9*x*x-24*x+5\n",
    "\n",
    "a=int(input(\"enter the value of a:\\n\"))\n",
    "b=int(input(\"enter the value of b:\\n\"))\n",
    "\n",
    "if myfunction(a)*myfunction(b)>0:\n",
    "    print(\"selection of a and b is not correct\") \n",
    "    print('inside bisect')\n",
    "else:\n",
    "    n=1\n",
    "    c=(a+b)/2\n",
    "    epsilon=0.0000001\n",
    "    while abs(myfunction(c)) > epsilon:\n",
    "        if(myfunction(a)*myfunction(c)<0):\n",
    "            b=c\n",
    "        else: \n",
    "            a=c\n",
    "        n=n+1\n",
    "        c=(a+b)/2\n",
    "    print(\"the root is:\", c)\n",
    "\n",
    "df = myfunction(c)/derfunc(c)\n",
    "while abs(df) > 0.0000001:\n",
    "    df = myfunction(c)/derfunc(c)\n",
    "    c = c - df\n",
    "print('Root after Newton method = ',c)\n",
    "    \n",
    "print('Roots after using numpy library: ',np.roots([3,-12,5,4]))"
   ]
  },
  {
   "cell_type": "code",
   "execution_count": 3,
   "metadata": {},
   "outputs": [
    {
     "name": "stdout",
     "output_type": "stream",
     "text": [
      "12\n",
      "12\n",
      "132.0\n"
     ]
    }
   ],
   "source": [
    "day = int(input(''))\n",
    "#print(day)\n",
    "latitude = float(input(''))\n",
    "diff = (day/360)*latitude\n",
    "#print(latitude)\n",
    "#print(diff)\n",
    "hrs = round(diff)\n",
    "mins = diff - hrs\n",
    "angleHours = (hrs/12)*360 + mins*30\n",
    "angleMinutes = mins*360\n",
    "answer = abs(abs(angleHours) - abs(angleMinutes))\n",
    "if answer > 180:\n",
    "    answer = 360-answer\n",
    "print(answer)"
   ]
  },
  {
   "cell_type": "code",
   "execution_count": 2,
   "metadata": {},
   "outputs": [
    {
     "name": "stdout",
     "output_type": "stream",
     "text": [
      "5\n",
      "1 5 6 7 3\n",
      "[1, 5, 6, 7, 3]\n"
     ]
    }
   ],
   "source": [
    "n = int(input())\n",
    "arr = list(map(int, input().split(\" \")))\n",
    "print(arr)"
   ]
  },
  {
   "cell_type": "code",
   "execution_count": null,
   "metadata": {},
   "outputs": [],
   "source": []
  }
 ],
 "metadata": {
  "kernelspec": {
   "display_name": "Python 3",
   "language": "python",
   "name": "python3"
  },
  "language_info": {
   "codemirror_mode": {
    "name": "ipython",
    "version": 3
   },
   "file_extension": ".py",
   "mimetype": "text/x-python",
   "name": "python",
   "nbconvert_exporter": "python",
   "pygments_lexer": "ipython3",
   "version": "3.7.4"
  }
 },
 "nbformat": 4,
 "nbformat_minor": 2
}
